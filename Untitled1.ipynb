{
 "cells": [
  {
   "cell_type": "code",
   "execution_count": 1,
   "id": "e72fdc79",
   "metadata": {},
   "outputs": [
    {
     "data": {
      "text/plain": [
       "<Figure size 640x480 with 0 Axes>"
      ]
     },
     "metadata": {},
     "output_type": "display_data"
    }
   ],
   "source": [
    "from env import UAV_RIS_UE_EAV\n",
    "# 1 init system model\n",
    "system = UAV_RIS_UE_EAV(\n",
    "    UE_num=3,\n",
    "    RIS_ant_num=64,\n",
    "    UAV_ant_num=4,\n",
    "    if_move_UEs=True,\n",
    "    if_movements=True,\n",
    "\n",
    "    )"
   ]
  },
  {
   "cell_type": "code",
   "execution_count": null,
   "id": "30e5e79e",
   "metadata": {},
   "outputs": [],
   "source": []
  },
  {
   "cell_type": "code",
   "execution_count": 2,
   "id": "78866b74",
   "metadata": {},
   "outputs": [],
   "source": [
    "ue = system.UE_list[0]"
   ]
  },
  {
   "cell_type": "code",
   "execution_count": 3,
   "id": "e32d2ebd",
   "metadata": {},
   "outputs": [
    {
     "data": {
      "text/plain": [
       "0.5849624872483451"
      ]
     },
     "execution_count": 3,
     "metadata": {},
     "output_type": "execute_result"
    }
   ],
   "source": [
    "ue.capacity"
   ]
  },
  {
   "cell_type": "code",
   "execution_count": 4,
   "id": "8301919d",
   "metadata": {},
   "outputs": [
    {
     "data": {
      "text/plain": [
       "matrix([[ 0.00074703+4.10983146e-04j],\n",
       "        [-0.00016843+8.35813996e-04j],\n",
       "        [-0.0008479 +8.95809887e-05j],\n",
       "        [-0.00033937-7.82164464e-04j]])"
      ]
     },
     "execution_count": 4,
     "metadata": {},
     "output_type": "execute_result"
    }
   ],
   "source": [
    "system.h_U_k[0].channel_matrix"
   ]
  },
  {
   "cell_type": "code",
   "execution_count": 5,
   "id": "b1aff715",
   "metadata": {},
   "outputs": [
    {
     "data": {
      "text/plain": [
       "0.2924812434119241"
      ]
     },
     "execution_count": 5,
     "metadata": {},
     "output_type": "execute_result"
    }
   ],
   "source": [
    "system.reward()"
   ]
  },
  {
   "cell_type": "code",
   "execution_count": null,
   "id": "8e1e4eaa",
   "metadata": {},
   "outputs": [],
   "source": []
  }
 ],
 "metadata": {
  "kernelspec": {
   "display_name": "LLM_RL_RA",
   "language": "python",
   "name": "llm_rl_ra"
  },
  "language_info": {
   "codemirror_mode": {
    "name": "ipython",
    "version": 3
   },
   "file_extension": ".py",
   "mimetype": "text/x-python",
   "name": "python",
   "nbconvert_exporter": "python",
   "pygments_lexer": "ipython3",
   "version": "3.9.21"
  }
 },
 "nbformat": 4,
 "nbformat_minor": 5
}
